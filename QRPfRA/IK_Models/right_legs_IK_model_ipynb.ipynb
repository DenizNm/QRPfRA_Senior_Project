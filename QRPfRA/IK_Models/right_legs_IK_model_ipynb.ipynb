{
 "cells": [
  {
   "cell_type": "code",
   "execution_count": 40,
   "metadata": {},
   "outputs": [],
   "source": [
    "import numpy as np\n",
    "\n",
    "from gymnasium import utils\n",
    "from gymnasium.envs.mujoco import MujocoEnv\n",
    "from gymnasium.error import Error\n",
    "from gymnasium.spaces import Box\n",
    "from gymnasium.utils.env_checker import check_env"
   ]
  },
  {
   "cell_type": "code",
   "execution_count": 41,
   "metadata": {},
   "outputs": [],
   "source": [
    "class QRPfRA_v3(MujocoEnv, utils.EzPickle):\n",
    "    metadata = {\n",
    "        \"render_modes\": [\n",
    "            \"human\",\n",
    "            \"rgb_array\",\n",
    "            \"depth_array\",\n",
    "        ],\n",
    "    }\n",
    "\n",
    "    def __init__(self, xml_file=\"/Users/deniz/PycharmProjects/QRPfRA_Senior_Project/QRPfRA/IK_Models/qrpfra_v3_leg_ik_scene_right.xml\", frame_skip=1, **kwargs):\n",
    "        utils.EzPickle.__init__(self, xml_file, frame_skip, **kwargs)\n",
    "\n",
    "        MujocoEnv.__init__(\n",
    "            self,\n",
    "            xml_file,\n",
    "            frame_skip=frame_skip,\n",
    "            observation_space=None,  # needs to be defined after\n",
    "            default_camera_config={},\n",
    "            **kwargs,\n",
    "        )\n",
    "\n",
    "        self.metadata = {\n",
    "            \"render_modes\": [\n",
    "                \"human\",\n",
    "                \"rgb_array\",\n",
    "                \"depth_array\",\n",
    "            ],\n",
    "            \"render_fps\": int(np.round(1.0 / self.dt)),\n",
    "        }\n",
    "\n",
    "        obs_size = self.data.qpos.size + self.data.qvel.size\n",
    "\n",
    "        self.observation_space = Box(\n",
    "            low=-np.inf, high=np.inf, shape=(obs_size,), dtype=np.float64\n",
    "        )\n",
    "\n",
    "    def step(self, action):\n",
    "\n",
    "        self.do_simulation(action, self.frame_skip)\n",
    "\n",
    "        observation = self._get_obs()\n",
    "        reward = 0\n",
    "        info = {}\n",
    "\n",
    "        if self.render_mode == \"human\":\n",
    "            self.render()\n",
    "\n",
    "        return observation, reward, False, False, info\n",
    "\n",
    "    def _get_obs(self):\n",
    "        sensor_data = self.data.sensordata.flat.copy()\n",
    "\n",
    "        return sensor_data\n",
    "\n",
    "    def reset_model(self):\n",
    "        qpos = self.init_qpos\n",
    "        qvel = self.init_qvel\n",
    "        self.set_state(qpos, qvel)\n",
    "\n",
    "        observation = self._get_obs()\n",
    "\n",
    "        return observation\n",
    "\n",
    "    def _get_reset_info(self):\n",
    "        return {\"works\": True}\n",
    "\n"
   ]
  },
  {
   "cell_type": "code",
   "execution_count": 42,
   "metadata": {},
   "outputs": [
    {
     "name": "stdout",
     "output_type": "stream",
     "text": [
      "(array([ 0.046 ,  0.1435, -0.1245,  0.    ,  0.    ,  0.    ]), {'works': True})\n"
     ]
    },
    {
     "name": "stderr",
     "output_type": "stream",
     "text": [
      "/Users/deniz/miniconda3/envs/QRPfRA_Senior_Project/lib/python3.11/site-packages/gymnasium/utils/env_checker.py:247: UserWarning: \u001b[33mWARN: For Box action spaces, we recommend using a symmetric and normalized space (range=[-1, 1] or [0, 1]). See https://stable-baselines3.readthedocs.io/en/master/guide/rl_tips.html for more information.\u001b[0m\n",
      "  logger.warn(\n",
      "/Users/deniz/miniconda3/envs/QRPfRA_Senior_Project/lib/python3.11/site-packages/gymnasium/utils/env_checker.py:225: UserWarning: \u001b[33mWARN: A Box observation space minimum value is -infinity. This is probably too low.\u001b[0m\n",
      "  logger.warn(\n",
      "/Users/deniz/miniconda3/envs/QRPfRA_Senior_Project/lib/python3.11/site-packages/gymnasium/utils/env_checker.py:229: UserWarning: \u001b[33mWARN: A Box observation space maximum value is -infinity. This is probably too high.\u001b[0m\n",
      "  logger.warn(\n",
      "/Users/deniz/miniconda3/envs/QRPfRA_Senior_Project/lib/python3.11/site-packages/gymnasium/utils/env_checker.py:321: UserWarning: \u001b[33mWARN: Not able to test alternative render modes due to the environment not having a spec. Try instantialising the environment through gymnasium.make\u001b[0m\n",
      "  logger.warn(\n"
     ]
    }
   ],
   "source": [
    "env = QRPfRA_v3()\n",
    "check_env(env)\n",
    "obs = env.reset()\n",
    "print(obs)\n"
   ]
  },
  {
   "cell_type": "code",
   "execution_count": 43,
   "metadata": {},
   "outputs": [],
   "source": [
    "leg_dataset = [] # [obs0, obs1, obs2, act0, act1, act2]"
   ]
  },
  {
   "cell_type": "code",
   "execution_count": 44,
   "metadata": {},
   "outputs": [],
   "source": [
    "for i in range(-100, 101):\n",
    "    for j in range(-100, 101):\n",
    "        for k in range(-100, 101):\n",
    "            #env.render_mode = \"human\"\n",
    "            env_obs = []\n",
    "            for step_cnt in range(0,3):\n",
    "                obs, reward, done, _, info = env.step([float(m) for m in [i, j, k]])\n",
    "                if step_cnt == 2:\n",
    "                    env_obs = obs\n",
    "            \n",
    "\n",
    "            leg_dataset.append([env_obs[0], env_obs[1], env_obs[2], i/100, j/100, k/100])\n",
    "\n",
    "\n",
    "env.close()"
   ]
  },
  {
   "cell_type": "code",
   "execution_count": 45,
   "metadata": {},
   "outputs": [
    {
     "name": "stdout",
     "output_type": "stream",
     "text": [
      "8120601\n"
     ]
    }
   ],
   "source": [
    "print(len(leg_dataset))"
   ]
  },
  {
   "cell_type": "code",
   "execution_count": 46,
   "metadata": {},
   "outputs": [],
   "source": [
    "\n",
    "# Save the leg_dataset variable to a text file with comma separation\n",
    "np.savetxt('leg_dataset.txt', leg_dataset, delimiter=',')\n"
   ]
  },
  {
   "cell_type": "code",
   "execution_count": 47,
   "metadata": {},
   "outputs": [],
   "source": [
    "#Convert left leg list to numpy array\n",
    "leg_dataset_as_np = np.array(leg_dataset)"
   ]
  },
  {
   "cell_type": "code",
   "execution_count": 48,
   "metadata": {},
   "outputs": [
    {
     "name": "stdout",
     "output_type": "stream",
     "text": [
      "[[ 0.16802824 -0.17832992 -0.02959151 -1.         -1.         -1.        ]\n",
      " [ 0.18403737 -0.15397299 -0.05543303 -1.         -1.         -0.99      ]\n",
      " [ 0.18410642 -0.15399049 -0.0541939  -1.         -1.         -0.98      ]\n",
      " [ 0.18487797 -0.1524819  -0.0550437  -1.         -1.         -0.97      ]]\n",
      "[[ 0.16802824 -0.17832992 -0.02959151]\n",
      " [ 0.18403737 -0.15397299 -0.05543303]\n",
      " [ 0.18410642 -0.15399049 -0.0541939 ]\n",
      " ...\n",
      " [ 0.07781588  0.04053809 -0.01035518]\n",
      " [ 0.07726975  0.03932206 -0.01066884]\n",
      " [ 0.07675705  0.03820821 -0.01096329]]\n",
      "[[-1.   -1.   -1.  ]\n",
      " [-1.   -1.   -0.99]\n",
      " [-1.   -1.   -0.98]\n",
      " ...\n",
      " [ 1.    1.    0.98]\n",
      " [ 1.    1.    0.99]\n",
      " [ 1.    1.    1.  ]]\n"
     ]
    }
   ],
   "source": [
    "print(leg_dataset_as_np[0:4])\n",
    "\n",
    "observations = leg_dataset_as_np[:, 0:3][:]\n",
    "print(observations)\n",
    "actions = leg_dataset_as_np[:, 3:][:]\n",
    "print(actions)"
   ]
  },
  {
   "cell_type": "code",
   "execution_count": 49,
   "metadata": {},
   "outputs": [
    {
     "name": "stdout",
     "output_type": "stream",
     "text": [
      "Epoch 1/4\n",
      "63443/63443 [==============================] - 51s 801us/step - loss: 0.0209 - accuracy: 0.9358\n",
      "Epoch 2/4\n",
      "63443/63443 [==============================] - 51s 801us/step - loss: 0.0171 - accuracy: 0.9463\n",
      "Epoch 3/4\n",
      "63443/63443 [==============================] - 50s 783us/step - loss: 0.0164 - accuracy: 0.9494\n",
      "Epoch 4/4\n",
      "63443/63443 [==============================] - 49s 767us/step - loss: 0.0159 - accuracy: 0.9513\n",
      "25377/25377 [==============================] - 9s 347us/step - loss: 0.0159 - accuracy: 0.9506\n",
      "Test Loss: [0.01591777428984642, 0.9506281018257141]\n",
      "Current Time: 2024-02-02 02:07:43.714014\n"
     ]
    }
   ],
   "source": [
    "import tensorflow as tf\n",
    "from sklearn.model_selection import train_test_split\n",
    "import datetime\n",
    "\n",
    "\n",
    "# Split the dataset into training and testing sets\n",
    "train_obs, test_obs, train_actions, test_actions = train_test_split(observations, actions, test_size=0.1, shuffle=True)\n",
    "\n",
    "# Define the model architecture\n",
    "model = tf.keras.Sequential([\n",
    "    tf.keras.layers.InputLayer(input_shape=(3,)),\n",
    "    tf.keras.layers.Dense(32, activation='selu'),\n",
    "    tf.keras.layers.Dense(128, activation='selu'),\n",
    "    tf.keras.layers.Dense(3, activation='tanh')\n",
    "])\n",
    "# Compile the model\n",
    "model.compile(optimizer='adam', loss=\"mse\", metrics=['accuracy'])\n",
    "\n",
    "# Train the model\n",
    "model.fit(observations, actions, epochs=4, batch_size=128)\n",
    "\n",
    "# Evaluate the model on the testing set\n",
    "test_loss = model.evaluate(test_obs, test_actions)\n",
    "print('Test Loss:', test_loss)\n",
    "current_time = datetime.datetime.now()\n",
    "print(\"Current Time:\", current_time)\n"
   ]
  },
  {
   "cell_type": "code",
   "execution_count": 50,
   "metadata": {},
   "outputs": [
    {
     "name": "stdout",
     "output_type": "stream",
     "text": [
      "INFO:tensorflow:Assets written to: right_legs_model/assets\n"
     ]
    },
    {
     "name": "stderr",
     "output_type": "stream",
     "text": [
      "INFO:tensorflow:Assets written to: right_legs_model/assets\n"
     ]
    }
   ],
   "source": [
    "model.save(\"right_legs_model\", overwrite=True)"
   ]
  }
 ],
 "metadata": {
  "kernelspec": {
   "display_name": "QRPfRA_Senior_Project",
   "language": "python",
   "name": "python3"
  },
  "language_info": {
   "codemirror_mode": {
    "name": "ipython",
    "version": 3
   },
   "file_extension": ".py",
   "mimetype": "text/x-python",
   "name": "python",
   "nbconvert_exporter": "python",
   "pygments_lexer": "ipython3",
   "version": "3.11.7"
  }
 },
 "nbformat": 4,
 "nbformat_minor": 2
}
